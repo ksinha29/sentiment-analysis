{
 "cells": [
  {
   "cell_type": "markdown",
   "id": "275c12a1",
   "metadata": {},
   "source": [
    "#sentiment analysis is the computationally identifying process by which we can categorize opinions/comment/feedback expressed especially in order to determine whether the users/writer's attitude towards a particular topic, product, etc. is positive, negative, or neutral."
   ]
  },
  {
   "cell_type": "code",
   "execution_count": 6,
   "id": "9f83c826",
   "metadata": {},
   "outputs": [],
   "source": [
    "#TextBlob Sentiment Analysis Python\n",
    "import pymysql\n",
    "import pymysql.cursors\n",
    "import pandas as pd\n",
    "import matplotlib.pyplot as plt\n",
    "#The TextBlob is a natural language processing library and is basically used for processing textual data.\n",
    "#It has several functionalities such as tokenization, stemming, language translation, sentiment analysis,\n",
    "#text classification and much more.\n",
    "# pip install textblob\n",
    "from textblob import TextBlob\n",
    "import csv"
   ]
  },
  {
   "cell_type": "code",
   "execution_count": 7,
   "id": "06bb2c09",
   "metadata": {},
   "outputs": [
    {
     "data": {
      "text/plain": [
       "['According to me guys',\n",
       " \"First of all I haven't purchased iPhone\",\n",
       " 'Secondly according to me if you have this much budget of more than 1lakhs spending on mobile is not worth at all',\n",
       " 'Infact you can invest that money on apple stock or other stock so that the money could get doubled in future bcoz buying iPhone is a depreciating asset',\n",
       " 'Hope you understand ',\n",
       " 'The product is good but think carefully before buying from here. Apple has new warranty policies. In case of defective product you will not get a replacement no matter whatever is mentioned here. I received a defective device and did not get a replacement from amazon.',\n",
       " 'Heavy phone.. Clean and sharp finish .. Gorgeous phone',\n",
       " 'It’s amazing ',\n",
       " 'From iPhone 6S in 2015 to iPhone 13 pro max in 2021 ,, one thing that still remains the same is it’s performance! I own an oneplus device but there is no comparison between these two! Apple made it a beast. From camera to gaming.\\neverything is top notch. The battery life is superb, best till now. Normal usage can go upto 3 days with full charge. Bought the earpods pro & iwatch to compliment this beast',\n",
       " 'Khud ki earning ka I phone best feeling ever \\nEverything is best',\n",
       " 'Value for money',\n",
       " 'Just excellent\\xa0',\n",
       " 'Too expensive for its features. Product isn’t that efficient per the price value . Such a huge waste of money.',\n",
       " 'I have started using iPhone from 5 series and since then this is 7th iPhone which I upgrade and I must say till date this has got the best battery I have observed in any of my previous iPhones. \\nCamera quality you can’t even think of comparing it with any other phone in the world. You definitely don’t need to carry a FSLR or a video cam after you own this piece. You can literally make a professional movie from its camera.',\n",
       " 'The only thing is that you need to shell out hell lot of money to be the owner of this beauty but at the end it’s gives you the satisfaction nothing else can give you because you own the best.',\n",
       " 'My suggestion is go for it only if you have the capacity to own it.',\n",
       " \"I was very skeptical about the genuineness of the product that I would receive as it was not available in stock in stores. So, I brought all my gut feeling together and made this purchase.\\n The product was delivered in time. When I opened the box, it was strikingly beautiful. I checked for its authenticity by verifying it from all different ways. Now, most importantly a genuine Apple iPhone 13 pro max phone was in my hand. It works great for me and has a longer battery life than the previous phones that I've had.\",\n",
       " 'Writing after one week of usage. I switched from Samsung A50 light and good quality. was very happy',\n",
       " 'All good and enough reviews are there online. Pro max is bulky. Hand will pain after holding for 10 mins for a call or browsing. Though many reviews told that, I overlooked the aspect.',\n",
       " 'Think of it before buying. It is not a small thing. You won’t appreciate all others aspects of mobile when your hand starts paining.',\n",
       " 'Took the chance to order from Amazon and loved it totally !! Camera and specially videos are perfect, and overall totally awesome mobi! Love the feel of it ! Battery is Top as it lasts for such a long time.\\n This is one of the major feature of this model.Worth the investment  The best one in the market ! I got Grey variant ! Feels like a handy DSLR! Love it',\n",
       " 'Being an Iphone user for over a decade, the iPhone 13 Pro Max is a premium look, especially the Sierre Blue Variant. Undoubtedly the best iPhone I ever had! Perfect combination of design and features.']"
      ]
     },
     "execution_count": 7,
     "metadata": {},
     "output_type": "execute_result"
    }
   ],
   "source": [
    "data = open(r\"C:\\Users\\K2A\\Downloads\\textdata.csv\")\n",
    "data = pd.read_csv(data)  \n",
    "data = data['text'].values.tolist()\n",
    "data"
   ]
  },
  {
   "cell_type": "code",
   "execution_count": 8,
   "id": "413a0cf4",
   "metadata": {
    "scrolled": true
   },
   "outputs": [
    {
     "name": "stdout",
     "output_type": "stream",
     "text": [
      "According to me guys                     :  0.00 : 0.00\n",
      "First of all I haven't purchased iPhone  :  0.25 : 0.33\n",
      "Secondly according to me if you have thi :  0.14 : 0.20\n",
      "Infact you can invest that money on appl : -0.06 : 0.25\n",
      "Hope you understand                      :  0.00 : 0.00\n",
      "The product is good but think carefully  :  0.25 : 0.68\n",
      "Heavy phone.. Clean and sharp finish ..  :  0.19 : 0.71\n",
      "It’s amazing                             :  0.60 : 0.90\n",
      "From iPhone 6S in 2015 to iPhone 13 pro  :  0.54 : 0.59\n",
      "Khud ki earning ka I phone best feeling  :  1.00 : 0.30\n",
      "Value for money                          :  0.00 : 0.00\n",
      "Just excellent                           :  1.00 : 1.00\n",
      "Too expensive for its features. Product  : -0.07 : 0.53\n",
      "I have started using iPhone from 5 serie :  0.23 : 0.41\n",
      "The only thing is that you need to shell :  0.53 : 0.77\n",
      "My suggestion is go for it only if you h :  0.30 : 1.00\n",
      "I was very skeptical about the genuinene :  0.19 : 0.57\n",
      "Writing after one week of usage. I switc :  0.70 : 0.77\n",
      "All good and enough reviews are there on :  0.40 : 0.53\n",
      "Think of it before buying. It is not a s :  0.12 : 0.40\n",
      "Took the chance to order from Amazon and :  0.43 : 0.57\n",
      "Being an Iphone user for over a decade,  :  0.50 : 0.60\n"
     ]
    }
   ],
   "source": [
    "#TextBlob returns two categories of subject- Polarity and Subjectivity.\n",
    "#Polarity is a float value within the range [-1.0 to 1.0], -1.0 defines a negative sentiment and 1.0 defines a positive sentiment.\n",
    "#Negation words reverse the polarity.\n",
    "\n",
    "#Subjectivity is a float value within the range [0 to 1.0]. \n",
    "#Subjectivity evaluates the measure of trustworthy and verifiable data contained in the content.\n",
    "#The higher subjectivity implies that the content contains closely-held conviction instead of genuine data.\n",
    "\n",
    "for text in data:\n",
    "    #Find sentiment of a review\n",
    "    sentiment = TextBlob(text)\n",
    "    #Print individual sentiments\n",
    "    print ('{:40} : {: 01.2f} : {:01.2f}'.format(text[:40]\\\n",
    "                , sentiment.polarity, sentiment.subjectivity))"
   ]
  },
  {
   "cell_type": "code",
   "execution_count": 9,
   "id": "e251b2f2",
   "metadata": {},
   "outputs": [
    {
     "name": "stdout",
     "output_type": "stream",
     "text": [
      "final summaryized count:  [9, 9, 4]\n"
     ]
    }
   ],
   "source": [
    "#Categorize Polarity into Positive, Neutral or Negative\n",
    "labels= [\"Negative\", \"Neutral\", \"Positive\"]\n",
    "#Initialize count array\n",
    "values = [0,0,0]\n",
    "#Categorize each review\n",
    "for text in data:\n",
    "    sentiment= TextBlob(text)\n",
    "    #Custom formula to convert polarity\n",
    "    polarity= round((sentiment.polarity +1) *3)%3\n",
    "    #add the summary array\n",
    "    values[polarity]= values[polarity]+ 1\n",
    "print (\"final summaryized count: \", values)"
   ]
  },
  {
   "cell_type": "code",
   "execution_count": 10,
   "id": "6678b304",
   "metadata": {},
   "outputs": [
    {
     "name": "stdout",
     "output_type": "stream",
     "text": [
      "\n",
      " Pie Representation \n",
      "\n"
     ]
    },
    {
     "data": {
      "image/png": "[encoded data removed]",
      "text/plain": [
       "<Figure size 432x288 with 1 Axes>"
      ]
     },
     "metadata": {},
     "output_type": "display_data"
    }
   ],
   "source": [
    "#Set colors by label\n",
    "colors=[\"Green\", \"Blue\", \"Red\"]\n",
    "print(\"\\n Pie Representation \\n\")\n",
    "#Plot a pie chart\n",
    "plt.pie(values, labels=labels, colors=colors,\\\n",
    "       autopct='%1.1f', shadow=True, startangle=140)\n",
    "plt.axis('equal')\n",
    "plt.show()"
   ]
  }
 ],
 "metadata": {
  "kernelspec": {
   "display_name": "Python 3 (ipykernel)",
   "language": "python",
   "name": "python3"
  },
  "language_info": {
   "codemirror_mode": {
    "name": "ipython",
    "version": 3
   },
   "file_extension": ".py",
   "mimetype": "text/x-python",
   "name": "python",
   "nbconvert_exporter": "python",
   "pygments_lexer": "ipython3",
   "version": "3.9.7"
  }
 },
 "nbformat": 4,
 "nbformat_minor": 5
}
