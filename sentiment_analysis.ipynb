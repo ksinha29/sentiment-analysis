{
 "cells": [
  {
   "cell_type": "markdown",
   "id": "fcb4ec75",
   "metadata": {},
   "source": [
    "#sentiment analysis is the computationally identifying process by which we can categorize opinions/comment/feedback expressed especially in order to determine whether the users/writer's attitude towards a particular topic, product, etc. is positive, negative, or neutral."
   ]
  },
  {
   "cell_type": "code",
   "execution_count": 26,
   "id": "d139833e",
   "metadata": {},
   "outputs": [],
   "source": [
    "#TextBlob Sentiment Analysis Python\n",
    "import pymysql\n",
    "import pymysql.cursors\n",
    "import pandas as pd\n",
    "import matplotlib.pyplot as plt\n",
    "#The TextBlob is a natural language processing library and is basically used for processing textual data.\n",
    "#It has several functionalities such as tokenization, stemming, language translation, sentiment analysis,\n",
    "#text classification and much more.\n",
    "# pip install textblob\n",
    "from textblob import TextBlob\n",
    "import csv"
   ]
  },
  {
   "cell_type": "code",
   "execution_count": 27,
   "id": "9970b724",
   "metadata": {},
   "outputs": [
    {
     "data": {
      "text/plain": [
       "['According to me guys',\n",
       " \"First of all I haven't purchased iPhone\",\n",
       " 'Secondly according to me if you have this much budget of more than 1lakhs spending on mobile is not worth at all',\n",
       " 'Infact you can invest that money on apple stock or other stock so that the money could get doubled in future bcoz buying iPhone is a depreciating asset',\n",
       " 'Hope you understand ',\n",
       " 'The product is good but think carefully before buying from here. Apple has new warranty policies. In case of defective product you will not get a replacement no matter whatever is mentioned here. I received a defective device and did not get a replacement from amazon.',\n",
       " 'Heavy phone.. Clean and sharp finish .. Gorgeous phone',\n",
       " 'It’s amazing ',\n",
       " 'From iPhone 6S in 2015 to iPhone 13 pro max in 2021 ,, one thing that still remains the same is it’s performance! I own an oneplus device but there is no comparison between these two! Apple made it a beast. From camera to gaming.\\neverything is top notch. The battery life is superb, best till now. Normal usage can go upto 3 days with full charge. Bought the earpods pro & iwatch to compliment this beast',\n",
       " 'Khud ki earning ka I phone best feeling ever \\nEverything is best',\n",
       " 'Value for money',\n",
       " 'Just excellent\\xa0',\n",
       " 'Too expensive for its features. Product isn’t that efficient per the price value . Such a huge waste of money.',\n",
       " 'I have started using iPhone from 5 series and since then this is 7th iPhone which I upgrade and I must say till date this has got the best battery I have observed in any of my previous iPhones. \\nCamera quality you can’t even think of comparing it with any other phone in the world. You definitely don’t need to carry a FSLR or a video cam after you own this piece. You can literally make a professional movie from its camera.',\n",
       " 'The only thing is that you need to shell out hell lot of money to be the owner of this beauty but at the end it’s gives you the satisfaction nothing else can give you because you own the best.',\n",
       " 'My suggestion is go for it only if you have the capacity to own it.',\n",
       " \"I was very skeptical about the genuineness of the product that I would receive as it was not available in stock in stores. So, I brought all my gut feeling together and made this purchase.\\n The product was delivered in time. When I opened the box, it was strikingly beautiful. I checked for its authenticity by verifying it from all different ways. Now, most importantly a genuine Apple iPhone 13 pro max phone was in my hand. It works great for me and has a longer battery life than the previous phones that I've had.\",\n",
       " 'Writing after one week of usage. I switched from Samsung A50 light and good quality. was very happy',\n",
       " 'All good and enough reviews are there online. Pro max is bulky. Hand will pain after holding for 10 mins for a call or browsing. Though many reviews told that, I overlooked the aspect.',\n",
       " 'Think of it before buying. It is not a small thing. You won’t appreciate all others aspects of mobile when your hand starts paining.',\n",
       " 'Took the chance to order from Amazon and loved it totally !! Camera and specially videos are perfect, and overall totally awesome mobi! Love the feel of it ! Battery is Top as it lasts for such a long time.\\n This is one of the major feature of this model.Worth the investment  The best one in the market ! I got Grey variant ! Feels like a handy DSLR! Love it',\n",
       " 'Being an Iphone user for over a decade, the iPhone 13 Pro Max is a premium look, especially the Sierre Blue Variant. Undoubtedly the best iPhone I ever had! Perfect combination of design and features.',\n",
       " 'This product is duplicate of iPhone 12 only camera design changed. Very low quality of this product Buy Samsung mobile phone',\n",
       " 'You should be a bigggggg bot to buy this phone\\nYou could get iPhone 12 Pro that’s the best',\n",
       " 'i am poor and i cant afford it lmao xdxdxdxdxd so if you have money to flex buy it i am bored thats why i am writing this review while drinking coffee i have my chemistry exam on manday and cant study mole concept and got bored thats why i came here to write this review if you read this review til here very good you justt wasted your time now go and do something productive :)',\n",
       " 'My honest review after going broke buying this depreciating object.\\nI have been using android phones since the last 10 years and finally decided to switch to iPhone! I used to roast iPhone for its prices, lack of features and also things like power adapter not given in box etc, but my last android phone (iqoo 7 legend) had lot of software related issues and battery issues after updating it to android 12, tired of bugs and software glitches in android, I finally decided to buy a iPhone and switch from android to iOS And Boy Was I right!\\nI never even held an iPhone In my life before because of its price, but now I made a great choice even if I had to spend all my savings on it.\\n\\niPhone 13 is so smooth that even my IQOO 7 Legend with 120hz feels slower than it even if iPhone has only 60hz. And I can’t believe what I’m seeing, all the games/apps are so much smoother and optimised than on android.\\n\\nI was very sceptical about the charging speed of an iPhone Because in Iqoo I had 66w fast charger where as for iPhone I had to buy 20w separate fast charger for 1800rs, but charging speed isn’t disappointing.\\n\\nDisplay quality is truly flagship level and I’m quite a fan of the small 6.1 display believe it or not, being able to reach the top of display with just one hand is very helpful, Build quality is great.\\nI would recommend NOT to waste extra 40k for buying 13 pro. Because I don’t think having a extra camera telephoto lens is worth spending 40k.\\n\\nYou can see in the 3rd image attached the quality of wide angle camera pic shot on my iPhone 13, wide angle camera struggles in low light, but main camera is really good, captures true colours. Front camera is really good too, truly flagship.\\n\\nSpeakers are Great.\\n\\nBattery life is better than my previous devices,\\niOS is very optimised in terms of battery life, easy 8hrs sot on normal usage.\\nNOTE : While playing BGMI you loose around 2% battery every 6minutes at HD + Extreme Graphics. Which is also good. Pro Max Would Be far better in terms of battery.\\n\\nFor the software? Yes I feel like there are few downsides, even if the software is very smooth and has very less bugs, it has two annoying things : any game gets paused when you open control centre just to check the battery etc, Lock Screen is annoying and also having to reach the top left corner just to see notifications is also annoying, clearing all notifications is also very annoying.\\n\\nBut other than that a perfect 10/10 purchase. I was very disappointed at myself when I paid for the iPhone but when I received it I was truly happy that I bought it.\\nTruly worth it.\\n',\n",
       " \"Apple Marketing has done quite a good job month after month to keep people on their toes with their new launches where there is nothing great about this phone. I have been on Android for almost inception of phones and switching to iPhone is just a pain.\\n\\n1. No guide or help to transfer your critical data(Move to iOS doesnt work at all with high amount of data transfer.\\nIf you want to buy, go to brick and motor shop and get your data transfer then and there.\\n2. Over hyped phone, nothing great i have found in the phone. May be i will find it better.\\n3. Total stuck with ecosystem.\\n4. At 90K they don't provide charger and are selling the same as extra. Total cheap strategy to earn more and promote their magsafe.\\n\\nI am not a happy customer till now! In a world where we talk about openness and open for integration, apple gives you a kind of black box... Boo to Apple!\\n88 people found this helpful\",\n",
       " 'Same as I phone 12 ??. Who so ever is reading this review I suggest go for I phone 12',\n",
       " 'The look is retrograde . Feel is cheap. Does not have physical double SIM. The Airtel does not offer eSIM for prepaid connection. Fortunately jio revised an eSIM that got activated in 2hrs’.\\nThere is nothing so spectacular about the camera. The cinematic mode is good.\\nThis is my first exposure to iphone.\\nImpression : As good as any high end handset. Android is really more user friendly.\\nBattery life for a new hand set is just good. Sustains 12hrs’ normal mixed use.',\n",
       " \"Price is very low than expected. I don't buy cheap phones??. Waiting for iPhone 20..........\\nTo buy A S A P\",\n",
       " 'Assuming you’re starting with a good foundation, I think the list of what really makes a big difference in phone upgrades is actually short. The first thing on the list is improved battery life. The second is an improved camera.',\n",
       " 'This Two Factor really matter in our day to day life and regular use',\n",
       " 'No any other things are improved like a screen and chip performance',\n",
       " 'Overall Soft Update for 12',\n",
       " 'Reviewing after 2 months usage.\\n+ve:\\n1. Battery\\n2. Display\\n3. Camera\\n\\n-ve:\\n1. Screen not responding in all the corners, I need to click three or four times\\n2. Portrait mode pictures , one plus does better than this\\n3. Phone got Stuck three times\\n4. When I play PUBG/BGMI fire button takes some time to respond (not sure it’s BGMI issue ) and also with mobile data BGMI not able to handle extreme graphics\\n\\nNote : these are all my experiences as new iPhone user who used Oneplus7 earlier.',\n",
       " 'Phone, Email & SMS management extremely unfriendly, primitive and restrictive',\n",
       " 'Unnecessary animation on each action',\n",
       " 'Very bad user experience',\n",
       " 'If you’re moving from iphone 11 or previous gen then it’s the best iPhone ever. From 12 to 13 , you won’t feel any significant changes. I moved from android to ios and I couldn’t be more happier.',\n",
       " 'Have Dent on the edge after checking trying to replace the product but we unable i have try many ways to replace so please don,t buy fom online plateform this expensive phones .',\n",
       " 'Rating 9/10\\ncamera 9\\nbattery 9 pubg 5 hrs smooth+extreme SOT 12hrs\\ndisplay 9\\nsound 10\\ndesign 9\\nperformance 9\\nsoftware 10\\nfaceid 10',\n",
       " \" Display flickering at the time of ringtone change and when playing songs with full volume dear friends Amazon replacement policy of Apple products are very verst they simply provide you Apple service centre adress i complain Amazon to replace after couple of hours after receiving of delivery but they are not ready to do so, so please don't go Apple products with Amazon.\",\n",
       " 'Though we talk a lot about high price for iPhones, this is worth the amount. Smooth touch, perfect to hold in hand. For the screen size of 6.1\", it looks small overall. I could have gone for pro max but more than 1.5L budget is way too much for me :-)\\n\\n* Good battery back-up (With low battery mode always on, 5 hours of talk-time, around 2 hours of twitter and 2 hours of whatsapp usage, 1 hour of songs listening, 1 hour of rummy/candy crush games and notification of all these items, the battery comes for more than 24 hours for me)\\n\\n* Getting charged quickly from 20% to 100% within 2 hours\\n\\n* Perfect camera and I love that \\'Live\\' photo option\\n\\n* Body design is awesome. When I held it in my hand for the first time, felt really happy about the design and the size of the iPhone 13.',\n",
       " 'Thanks a lot Amazon for the early delivery. Thanks to Appario also. Received a genuine iPhone 13 256 GB and it was verified by Apple remote diagnostics. The phone is really awesome.. Camera is more than my expectation and music is unbelievable. Battery is easily giving me 1.5 days of backup.. Amazing experience. Loving it....',\n",
       " 'Best camera, best battery life, fast performance. The size can also be a plus for people who prefer compact phones but still want the best specs.',\n",
       " 'As i am a old apple user , i hv suggested my sister to buy this . Cuz it costing me 67k and it performs like butter ?? camera was good , smooth and clean UI ?? battery is also pretty good performing . Premium feels in hands . But one thing its heating while opening camera at the back like my 7 plus is that everyone facing who are using apple phones or i am the one ! ?',\n",
       " 'Camera 10/10\\nDisplay 10/10\\nBattery 10/10\\nNo connectivity issue as I have faced in one plus nord 2 and Samsung a52s 5g\\nAll-rounder phone I have never seen recommended to everyone but expensive',\n",
       " 'Product is good but phone is heating uo during charging with 20 w adapter',\n",
       " 'i like iphone 13 camera and every thing in this phone',\n",
       " 'Awesome product, android phone may 12gb ram but cannot beat apple. Wat a phone? Perfect example of money for value.']"
      ]
     },
     "execution_count": 27,
     "metadata": {},
     "output_type": "execute_result"
    }
   ],
   "source": [
    "data = open(r\"C:\\Users\\K2A\\Downloads\\textdata.csv\")\n",
    "data = pd.read_csv(data)  \n",
    "data = data['text'].values.tolist()\n",
    "data"
   ]
  },
  {
   "cell_type": "code",
   "execution_count": 28,
   "id": "61e35d95",
   "metadata": {
    "scrolled": false
   },
   "outputs": [
    {
     "name": "stdout",
     "output_type": "stream",
     "text": [
      "According to me guys                     :  0.00 : 0.00\n",
      "First of all I haven't purchased iPhone  :  0.25 : 0.33\n",
      "Secondly according to me if you have thi :  0.14 : 0.20\n",
      "Infact you can invest that money on appl : -0.06 : 0.25\n",
      "Hope you understand                      :  0.00 : 0.00\n",
      "The product is good but think carefully  :  0.25 : 0.68\n",
      "Heavy phone.. Clean and sharp finish ..  :  0.19 : 0.71\n",
      "It’s amazing                             :  0.60 : 0.90\n",
      "From iPhone 6S in 2015 to iPhone 13 pro  :  0.54 : 0.59\n",
      "Khud ki earning ka I phone best feeling  :  1.00 : 0.30\n",
      "Value for money                          :  0.00 : 0.00\n",
      "Just excellent                           :  1.00 : 1.00\n",
      "Too expensive for its features. Product  : -0.07 : 0.53\n",
      "I have started using iPhone from 5 serie :  0.23 : 0.41\n",
      "The only thing is that you need to shell :  0.53 : 0.77\n",
      "My suggestion is go for it only if you h :  0.30 : 1.00\n",
      "I was very skeptical about the genuinene :  0.19 : 0.57\n",
      "Writing after one week of usage. I switc :  0.70 : 0.77\n",
      "All good and enough reviews are there on :  0.40 : 0.53\n",
      "Think of it before buying. It is not a s :  0.12 : 0.40\n",
      "Took the chance to order from Amazon and :  0.43 : 0.57\n",
      "Being an Iphone user for over a decade,  :  0.50 : 0.60\n",
      "This product is duplicate of iPhone 12 o :  0.00 : 0.70\n",
      "You should be a bigggggg bot to buy this :  1.00 : 0.30\n",
      "i am poor and i cant afford it lmao xdxd :  0.06 : 0.77\n",
      "My honest review after going broke buyin :  0.11 : 0.53\n",
      "Apple Marketing has done quite a good jo :  0.23 : 0.60\n",
      "Same as I phone 12 ??. Who so ever is re :  0.00 : 0.12\n",
      "The look is retrograde . Feel is cheap.  :  0.32 : 0.48\n",
      "Price is very low than expected. I don't :  0.10 : 0.50\n",
      "Assuming you’re starting with a good fou :  0.16 : 0.23\n",
      "This Two Factor really matter in our day :  0.10 : 0.14\n",
      "No any other things are improved like a  : -0.12 : 0.38\n",
      "Overall Soft Update for 12               :  0.05 : 0.17\n",
      "Reviewing after 2 months usage.\n",
      "+ve:\n",
      "1.  :  0.00 : 0.66\n",
      "Phone, Email & SMS management extremely  : -0.12 : 1.00\n",
      "Unnecessary animation on each action     : -0.15 : 0.50\n",
      "Very bad user experience                 : -0.91 : 0.87\n",
      "If you’re moving from iphone 11 or previ :  0.43 : 0.46\n",
      "Have Dent on the edge after checking try : -0.17 : 0.57\n",
      "Rating 9/10\n",
      "camera 9\n",
      "battery 9 pubg 5 hr :  0.40 : 0.40\n",
      " Display flickering at the time of ringt :  0.11 : 0.43\n",
      "Though we talk a lot about high price fo :  0.42 : 0.56\n",
      "Thanks a lot Amazon for the early delive :  0.33 : 0.60\n",
      "Best camera, best battery life, fast per :  0.80 : 0.38\n",
      "As i am a old apple user , i hv suggeste :  0.36 : 0.51\n",
      "Camera 10/10\n",
      "Display 10/10\n",
      "Battery 10/10 : -0.50 : 0.70\n",
      "Product is good but phone is heating uo  :  0.70 : 0.60\n",
      "i like iphone 13 camera and every thing  :  0.00 : 0.00\n",
      "Awesome product, android phone may 12gb  :  1.00 : 1.00\n"
     ]
    }
   ],
   "source": [
    "#TextBlob returns two categories of subject- Polarity and Subjectivity.\n",
    "#Polarity is a float value within the range [-1.0 to 1.0], -1.0 defines a negative sentiment and 1.0 defines a positive sentiment.\n",
    "#Negation words reverse the polarity.\n",
    "\n",
    "#Subjectivity is a float value within the range [0 to 1.0]. \n",
    "#Subjectivity evaluates the measure of trustworthy and verifiable data contained in the content.\n",
    "#The higher subjectivity implies that the content contains closely-held conviction instead of genuine data.\n",
    "\n",
    "for text in data:\n",
    "    #Find sentiment of a review\n",
    "    sentiment = TextBlob(text)\n",
    "    #Print individual sentiments\n",
    "    print ('{:40} : {: 01.2f} : {:01.2f}'.format(text[:40]\\\n",
    "                , sentiment.polarity, sentiment.subjectivity))"
   ]
  },
  {
   "cell_type": "code",
   "execution_count": 29,
   "id": "a2d67065",
   "metadata": {},
   "outputs": [
    {
     "name": "stdout",
     "output_type": "stream",
     "text": [
      "final summaryized count:  [26, 16, 8]\n"
     ]
    }
   ],
   "source": [
    "#Categorize Polarity into Positive, Neutral or Negative\n",
    "labels= [\"Negative\", \"Neutral\", \"Positive\"]\n",
    "#Initialize count array\n",
    "values = [0,0,0]\n",
    "#Categorize each review\n",
    "for text in data:\n",
    "    sentiment= TextBlob(text)\n",
    "    #Custom formula to convert polarity\n",
    "    polarity= round((sentiment.polarity +1) *3)%3\n",
    "    #add the summary array\n",
    "    values[polarity]= values[polarity]+ 1\n",
    "print (\"final summaryized count: \", values)"
   ]
  },
  {
   "cell_type": "code",
   "execution_count": 30,
   "id": "18d92cbd",
   "metadata": {},
   "outputs": [
    {
     "name": "stdout",
     "output_type": "stream",
     "text": [
      "\n",
      "Sentiment Analysis result in form of Pie Representation for iphone user's reviews.\n",
      "It is based on 50 reviews available on Amazon.in \n",
      "\n"
     ]
    },
    {
     "data": {
      "image/png": "[encoded data removed]",
      "text/plain": [
       "<Figure size 432x288 with 1 Axes>"
      ]
     },
     "metadata": {},
     "output_type": "display_data"
    }
   ],
   "source": [
    "#Set colors by label\n",
    "colors=[\"Green\", \"Blue\", \"Red\"]\n",
    "print(\"\\nSentiment Analysis result in form of Pie Representation for iphone user's reviews.\\nIt is based on 50 reviews available on Amazon.in \\n\")\n",
    "#Plot a pie chart\n",
    "plt.pie(values, labels=labels, colors=colors,\\\n",
    "       autopct='%1.1f', shadow=True, startangle=140)\n",
    "plt.axis('equal')\n",
    "plt.show()"
   ]
  }
 ],
 "metadata": {
  "kernelspec": {
   "display_name": "Python 3 (ipykernel)",
   "language": "python",
   "name": "python3"
  },
  "language_info": {
   "codemirror_mode": {
    "name": "ipython",
    "version": 3
   },
   "file_extension": ".py",
   "mimetype": "text/x-python",
   "name": "python",
   "nbconvert_exporter": "python",
   "pygments_lexer": "ipython3",
   "version": "3.9.7"
  }
 },
 "nbformat": 4,
 "nbformat_minor": 5
}
